{
 "cells": [
  {
   "cell_type": "code",
   "execution_count": null,
   "metadata": {
    "id": "LsTDTEy0iqm2"
   },
   "outputs": [],
   "source": [
    "# https://medium.com/@sandromoreira/building-intelligent-agents-from-scratch-with-crewai-gemini-and-google-colab-e8270af54676\n",
    "# crew ai agents project with google gemini-1.5-flash and duckduckgo search"
   ]
  },
  {
   "cell_type": "code",
   "execution_count": null,
   "metadata": {
    "colab": {
     "base_uri": "https://localhost:8080/"
    },
    "id": "6DpQc7u-3-ol",
    "outputId": "9495fbf9-f9fa-42fb-abd9-b1a434c31c9b"
   },
   "outputs": [
    {
     "name": "stdout",
     "output_type": "stream",
     "text": [
      "\u001b[2K     \u001b[90m━━━━━━━━━━━━━━━━━━━━━━━━━━━━━━━━━━━━━━━━\u001b[0m \u001b[32m42.0/42.0 kB\u001b[0m \u001b[31m2.4 MB/s\u001b[0m eta \u001b[36m0:00:00\u001b[0m\n",
      "\u001b[2K     \u001b[90m━━━━━━━━━━━━━━━━━━━━━━━━━━━━━━━━━━━━━━━━\u001b[0m \u001b[32m67.3/67.3 kB\u001b[0m \u001b[31m4.1 MB/s\u001b[0m eta \u001b[36m0:00:00\u001b[0m\n",
      "\u001b[?25h  Installing build dependencies ... \u001b[?25l\u001b[?25hdone\n",
      "  Getting requirements to build wheel ... \u001b[?25l\u001b[?25hdone\n",
      "  Preparing metadata (pyproject.toml) ... \u001b[?25l\u001b[?25hdone\n",
      "  Preparing metadata (setup.py) ... \u001b[?25l\u001b[?25hdone\n",
      "\u001b[2K     \u001b[90m━━━━━━━━━━━━━━━━━━━━━━━━━━━━━━━━━━━━━━━━\u001b[0m \u001b[32m48.2/48.2 kB\u001b[0m \u001b[31m3.2 MB/s\u001b[0m eta \u001b[36m0:00:00\u001b[0m\n",
      "\u001b[2K   \u001b[90m━━━━━━━━━━━━━━━━━━━━━━━━━━━━━━━━━━━━━━━━\u001b[0m \u001b[32m192.0/192.0 kB\u001b[0m \u001b[31m7.0 MB/s\u001b[0m eta \u001b[36m0:00:00\u001b[0m\n",
      "\u001b[2K   \u001b[90m━━━━━━━━━━━━━━━━━━━━━━━━━━━━━━━━━━━━━━━━\u001b[0m \u001b[32m131.8/131.8 kB\u001b[0m \u001b[31m10.0 MB/s\u001b[0m eta \u001b[36m0:00:00\u001b[0m\n",
      "\u001b[2K   \u001b[90m━━━━━━━━━━━━━━━━━━━━━━━━━━━━━━━━━━━━━━━━\u001b[0m \u001b[32m628.3/628.3 kB\u001b[0m \u001b[31m23.0 MB/s\u001b[0m eta \u001b[36m0:00:00\u001b[0m\n",
      "\u001b[2K   \u001b[90m━━━━━━━━━━━━━━━━━━━━━━━━━━━━━━━━━━━━━━━━\u001b[0m \u001b[32m2.4/2.4 MB\u001b[0m \u001b[31m58.8 MB/s\u001b[0m eta \u001b[36m0:00:00\u001b[0m\n",
      "\u001b[2K   \u001b[90m━━━━━━━━━━━━━━━━━━━━━━━━━━━━━━━━━━━━━━━━\u001b[0m \u001b[32m468.0/468.0 kB\u001b[0m \u001b[31m28.9 MB/s\u001b[0m eta \u001b[36m0:00:00\u001b[0m\n",
      "\u001b[2K   \u001b[90m━━━━━━━━━━━━━━━━━━━━━━━━━━━━━━━━━━━━━━━━\u001b[0m \u001b[32m71.4/71.4 kB\u001b[0m \u001b[31m4.8 MB/s\u001b[0m eta \u001b[36m0:00:00\u001b[0m\n",
      "\u001b[2K   \u001b[90m━━━━━━━━━━━━━━━━━━━━━━━━━━━━━━━━━━━━━━━━\u001b[0m \u001b[32m6.5/6.5 MB\u001b[0m \u001b[31m86.5 MB/s\u001b[0m eta \u001b[36m0:00:00\u001b[0m\n",
      "\u001b[2K   \u001b[90m━━━━━━━━━━━━━━━━━━━━━━━━━━━━━━━━━━━━━━━━\u001b[0m \u001b[32m55.8/55.8 kB\u001b[0m \u001b[31m4.2 MB/s\u001b[0m eta \u001b[36m0:00:00\u001b[0m\n",
      "\u001b[2K   \u001b[90m━━━━━━━━━━━━━━━━━━━━━━━━━━━━━━━━━━━━━━━━\u001b[0m \u001b[32m59.2/59.2 kB\u001b[0m \u001b[31m4.2 MB/s\u001b[0m eta \u001b[36m0:00:00\u001b[0m\n",
      "\u001b[2K   \u001b[90m━━━━━━━━━━━━━━━━━━━━━━━━━━━━━━━━━━━━━━━━\u001b[0m \u001b[32m5.6/5.6 MB\u001b[0m \u001b[31m87.7 MB/s\u001b[0m eta \u001b[36m0:00:00\u001b[0m\n",
      "\u001b[2K   \u001b[90m━━━━━━━━━━━━━━━━━━━━━━━━━━━━━━━━━━━━━━━━\u001b[0m \u001b[32m756.0/756.0 kB\u001b[0m \u001b[31m40.3 MB/s\u001b[0m eta \u001b[36m0:00:00\u001b[0m\n",
      "\u001b[2K   \u001b[90m━━━━━━━━━━━━━━━━━━━━━━━━━━━━━━━━━━━━━━━━\u001b[0m \u001b[32m15.0/15.0 MB\u001b[0m \u001b[31m81.6 MB/s\u001b[0m eta \u001b[36m0:00:00\u001b[0m\n",
      "\u001b[2K   \u001b[90m━━━━━━━━━━━━━━━━━━━━━━━━━━━━━━━━━━━━━━━━\u001b[0m \u001b[32m278.6/278.6 kB\u001b[0m \u001b[31m18.2 MB/s\u001b[0m eta \u001b[36m0:00:00\u001b[0m\n",
      "\u001b[2K   \u001b[90m━━━━━━━━━━━━━━━━━━━━━━━━━━━━━━━━━━━━━━━━\u001b[0m \u001b[32m147.8/147.8 kB\u001b[0m \u001b[31m10.2 MB/s\u001b[0m eta \u001b[36m0:00:00\u001b[0m\n",
      "\u001b[2K   \u001b[90m━━━━━━━━━━━━━━━━━━━━━━━━━━━━━━━━━━━━━━━━\u001b[0m \u001b[32m211.4/211.4 kB\u001b[0m \u001b[31m13.9 MB/s\u001b[0m eta \u001b[36m0:00:00\u001b[0m\n",
      "\u001b[2K   \u001b[90m━━━━━━━━━━━━━━━━━━━━━━━━━━━━━━━━━━━━━━━━\u001b[0m \u001b[32m94.8/94.8 kB\u001b[0m \u001b[31m7.5 MB/s\u001b[0m eta \u001b[36m0:00:00\u001b[0m\n",
      "\u001b[2K   \u001b[90m━━━━━━━━━━━━━━━━━━━━━━━━━━━━━━━━━━━━━━━━\u001b[0m \u001b[32m76.4/76.4 kB\u001b[0m \u001b[31m5.6 MB/s\u001b[0m eta \u001b[36m0:00:00\u001b[0m\n",
      "\u001b[2K   \u001b[90m━━━━━━━━━━━━━━━━━━━━━━━━━━━━━━━━━━━━━━━━\u001b[0m \u001b[32m1.9/1.9 MB\u001b[0m \u001b[31m59.7 MB/s\u001b[0m eta \u001b[36m0:00:00\u001b[0m\n",
      "\u001b[2K   \u001b[90m━━━━━━━━━━━━━━━━━━━━━━━━━━━━━━━━━━━━━━━━\u001b[0m \u001b[32m29.9/29.9 MB\u001b[0m \u001b[31m30.8 MB/s\u001b[0m eta \u001b[36m0:00:00\u001b[0m\n",
      "\u001b[2K   \u001b[90m━━━━━━━━━━━━━━━━━━━━━━━━━━━━━━━━━━━━━━━━\u001b[0m \u001b[32m33.5/33.5 MB\u001b[0m \u001b[31m21.6 MB/s\u001b[0m eta \u001b[36m0:00:00\u001b[0m\n",
      "\u001b[2K   \u001b[90m━━━━━━━━━━━━━━━━━━━━━━━━━━━━━━━━━━━━━━━━\u001b[0m \u001b[32m93.2/93.2 kB\u001b[0m \u001b[31m6.9 MB/s\u001b[0m eta \u001b[36m0:00:00\u001b[0m\n",
      "\u001b[2K   \u001b[90m━━━━━━━━━━━━━━━━━━━━━━━━━━━━━━━━━━━━━━━━\u001b[0m \u001b[32m13.3/13.3 MB\u001b[0m \u001b[31m87.1 MB/s\u001b[0m eta \u001b[36m0:00:00\u001b[0m\n",
      "\u001b[2K   \u001b[90m━━━━━━━━━━━━━━━━━━━━━━━━━━━━━━━━━━━━━━━━\u001b[0m \u001b[32m54.8/54.8 kB\u001b[0m \u001b[31m3.7 MB/s\u001b[0m eta \u001b[36m0:00:00\u001b[0m\n",
      "\u001b[2K   \u001b[90m━━━━━━━━━━━━━━━━━━━━━━━━━━━━━━━━━━━━━━━━\u001b[0m \u001b[32m2.9/2.9 MB\u001b[0m \u001b[31m68.9 MB/s\u001b[0m eta \u001b[36m0:00:00\u001b[0m\n",
      "\u001b[2K   \u001b[90m━━━━━━━━━━━━━━━━━━━━━━━━━━━━━━━━━━━━━━━━\u001b[0m \u001b[32m57.6/57.6 kB\u001b[0m \u001b[31m3.9 MB/s\u001b[0m eta \u001b[36m0:00:00\u001b[0m\n",
      "\u001b[2K   \u001b[90m━━━━━━━━━━━━━━━━━━━━━━━━━━━━━━━━━━━━━━━━\u001b[0m \u001b[32m9.7/9.7 MB\u001b[0m \u001b[31m89.6 MB/s\u001b[0m eta \u001b[36m0:00:00\u001b[0m\n",
      "\u001b[2K   \u001b[90m━━━━━━━━━━━━━━━━━━━━━━━━━━━━━━━━━━━━━━━━\u001b[0m \u001b[32m1.1/1.1 MB\u001b[0m \u001b[31m47.8 MB/s\u001b[0m eta \u001b[36m0:00:00\u001b[0m\n",
      "\u001b[2K   \u001b[90m━━━━━━━━━━━━━━━━━━━━━━━━━━━━━━━━━━━━━━━━\u001b[0m \u001b[32m3.0/3.0 MB\u001b[0m \u001b[31m66.5 MB/s\u001b[0m eta \u001b[36m0:00:00\u001b[0m\n",
      "\u001b[2K   \u001b[90m━━━━━━━━━━━━━━━━━━━━━━━━━━━━━━━━━━━━━━━━\u001b[0m \u001b[32m62.3/62.3 kB\u001b[0m \u001b[31m4.3 MB/s\u001b[0m eta \u001b[36m0:00:00\u001b[0m\n",
      "\u001b[2K   \u001b[90m━━━━━━━━━━━━━━━━━━━━━━━━━━━━━━━━━━━━━━━━\u001b[0m \u001b[32m233.5/233.5 kB\u001b[0m \u001b[31m15.4 MB/s\u001b[0m eta \u001b[36m0:00:00\u001b[0m\n",
      "\u001b[2K   \u001b[90m━━━━━━━━━━━━━━━━━━━━━━━━━━━━━━━━━━━━━━━━\u001b[0m \u001b[32m250.0/250.0 kB\u001b[0m \u001b[31m17.2 MB/s\u001b[0m eta \u001b[36m0:00:00\u001b[0m\n",
      "\u001b[2K   \u001b[90m━━━━━━━━━━━━━━━━━━━━━━━━━━━━━━━━━━━━━━━━\u001b[0m \u001b[32m131.6/131.6 kB\u001b[0m \u001b[31m10.7 MB/s\u001b[0m eta \u001b[36m0:00:00\u001b[0m\n",
      "\u001b[2K   \u001b[90m━━━━━━━━━━━━━━━━━━━━━━━━━━━━━━━━━━━━━━━━\u001b[0m \u001b[32m442.1/442.1 kB\u001b[0m \u001b[31m26.5 MB/s\u001b[0m eta \u001b[36m0:00:00\u001b[0m\n",
      "\u001b[2K   \u001b[90m━━━━━━━━━━━━━━━━━━━━━━━━━━━━━━━━━━━━━━━━\u001b[0m \u001b[32m1.6/1.6 MB\u001b[0m \u001b[31m57.8 MB/s\u001b[0m eta \u001b[36m0:00:00\u001b[0m\n",
      "\u001b[2K   \u001b[90m━━━━━━━━━━━━━━━━━━━━━━━━━━━━━━━━━━━━━━━━\u001b[0m \u001b[32m44.3/44.3 kB\u001b[0m \u001b[31m3.0 MB/s\u001b[0m eta \u001b[36m0:00:00\u001b[0m\n",
      "\u001b[2K   \u001b[90m━━━━━━━━━━━━━━━━━━━━━━━━━━━━━━━━━━━━━━━━\u001b[0m \u001b[32m2.5/2.5 MB\u001b[0m \u001b[31m68.6 MB/s\u001b[0m eta \u001b[36m0:00:00\u001b[0m\n",
      "\u001b[2K   \u001b[90m━━━━━━━━━━━━━━━━━━━━━━━━━━━━━━━━━━━━━━━━\u001b[0m \u001b[32m1.0/1.0 MB\u001b[0m \u001b[31m42.5 MB/s\u001b[0m eta \u001b[36m0:00:00\u001b[0m\n",
      "\u001b[2K   \u001b[90m━━━━━━━━━━━━━━━━━━━━━━━━━━━━━━━━━━━━━━━━\u001b[0m \u001b[32m50.9/50.9 kB\u001b[0m \u001b[31m3.5 MB/s\u001b[0m eta \u001b[36m0:00:00\u001b[0m\n",
      "\u001b[2K   \u001b[90m━━━━━━━━━━━━━━━━━━━━━━━━━━━━━━━━━━━━━━━━\u001b[0m \u001b[32m454.3/454.3 kB\u001b[0m \u001b[31m26.7 MB/s\u001b[0m eta \u001b[36m0:00:00\u001b[0m\n",
      "\u001b[2K   \u001b[90m━━━━━━━━━━━━━━━━━━━━━━━━━━━━━━━━━━━━━━━━\u001b[0m \u001b[32m311.8/311.8 kB\u001b[0m \u001b[31m20.8 MB/s\u001b[0m eta \u001b[36m0:00:00\u001b[0m\n",
      "\u001b[2K   \u001b[90m━━━━━━━━━━━━━━━━━━━━━━━━━━━━━━━━━━━━━━━━\u001b[0m \u001b[32m83.2/83.2 kB\u001b[0m \u001b[31m6.0 MB/s\u001b[0m eta \u001b[36m0:00:00\u001b[0m\n",
      "\u001b[2K   \u001b[90m━━━━━━━━━━━━━━━━━━━━━━━━━━━━━━━━━━━━━━━━\u001b[0m \u001b[32m319.7/319.7 kB\u001b[0m \u001b[31m19.6 MB/s\u001b[0m eta \u001b[36m0:00:00\u001b[0m\n",
      "\u001b[2K   \u001b[90m━━━━━━━━━━━━━━━━━━━━━━━━━━━━━━━━━━━━━━━━\u001b[0m \u001b[32m298.0/298.0 kB\u001b[0m \u001b[31m19.7 MB/s\u001b[0m eta \u001b[36m0:00:00\u001b[0m\n",
      "\u001b[2K   \u001b[90m━━━━━━━━━━━━━━━━━━━━━━━━━━━━━━━━━━━━━━━━\u001b[0m \u001b[32m71.1/71.1 kB\u001b[0m \u001b[31m5.1 MB/s\u001b[0m eta \u001b[36m0:00:00\u001b[0m\n",
      "\u001b[2K   \u001b[90m━━━━━━━━━━━━━━━━━━━━━━━━━━━━━━━━━━━━━━━━\u001b[0m \u001b[32m73.2/73.2 kB\u001b[0m \u001b[31m5.6 MB/s\u001b[0m eta \u001b[36m0:00:00\u001b[0m\n",
      "\u001b[2K   \u001b[90m━━━━━━━━━━━━━━━━━━━━━━━━━━━━━━━━━━━━━━━━\u001b[0m \u001b[32m486.3/486.3 kB\u001b[0m \u001b[31m29.1 MB/s\u001b[0m eta \u001b[36m0:00:00\u001b[0m\n",
      "\u001b[2K   \u001b[90m━━━━━━━━━━━━━━━━━━━━━━━━━━━━━━━━━━━━━━━━\u001b[0m \u001b[32m3.8/3.8 MB\u001b[0m \u001b[31m76.3 MB/s\u001b[0m eta \u001b[36m0:00:00\u001b[0m\n",
      "\u001b[2K   \u001b[90m━━━━━━━━━━━━━━━━━━━━━━━━━━━━━━━━━━━━━━━━\u001b[0m \u001b[32m443.8/443.8 kB\u001b[0m \u001b[31m26.2 MB/s\u001b[0m eta \u001b[36m0:00:00\u001b[0m\n",
      "\u001b[2K   \u001b[90m━━━━━━━━━━━━━━━━━━━━━━━━━━━━━━━━━━━━━━━━\u001b[0m \u001b[32m46.0/46.0 kB\u001b[0m \u001b[31m3.2 MB/s\u001b[0m eta \u001b[36m0:00:00\u001b[0m\n",
      "\u001b[2K   \u001b[90m━━━━━━━━━━━━━━━━━━━━━━━━━━━━━━━━━━━━━━━━\u001b[0m \u001b[32m3.1/3.1 MB\u001b[0m \u001b[31m70.7 MB/s\u001b[0m eta \u001b[36m0:00:00\u001b[0m\n",
      "\u001b[2K   \u001b[90m━━━━━━━━━━━━━━━━━━━━━━━━━━━━━━━━━━━━━━━━\u001b[0m \u001b[32m86.8/86.8 kB\u001b[0m \u001b[31m6.2 MB/s\u001b[0m eta \u001b[36m0:00:00\u001b[0m\n",
      "\u001b[2K   \u001b[90m━━━━━━━━━━━━━━━━━━━━━━━━━━━━━━━━━━━━━━━━\u001b[0m \u001b[32m411.6/411.6 kB\u001b[0m \u001b[31m25.8 MB/s\u001b[0m eta \u001b[36m0:00:00\u001b[0m\n",
      "\u001b[2K   \u001b[90m━━━━━━━━━━━━━━━━━━━━━━━━━━━━━━━━━━━━━━━━\u001b[0m \u001b[32m209.2/209.2 kB\u001b[0m \u001b[31m15.1 MB/s\u001b[0m eta \u001b[36m0:00:00\u001b[0m\n",
      "\u001b[2K   \u001b[90m━━━━━━━━━━━━━━━━━━━━━━━━━━━━━━━━━━━━━━━━\u001b[0m \u001b[32m267.2/267.2 kB\u001b[0m \u001b[31m16.6 MB/s\u001b[0m eta \u001b[36m0:00:00\u001b[0m\n",
      "\u001b[2K   \u001b[90m━━━━━━━━━━━━━━━━━━━━━━━━━━━━━━━━━━━━━━━━\u001b[0m \u001b[32m78.6/78.6 kB\u001b[0m \u001b[31m5.3 MB/s\u001b[0m eta \u001b[36m0:00:00\u001b[0m\n",
      "\u001b[2K   \u001b[90m━━━━━━━━━━━━━━━━━━━━━━━━━━━━━━━━━━━━━━━━\u001b[0m \u001b[32m2.4/2.4 MB\u001b[0m \u001b[31m65.8 MB/s\u001b[0m eta \u001b[36m0:00:00\u001b[0m\n",
      "\u001b[2K   \u001b[90m━━━━━━━━━━━━━━━━━━━━━━━━━━━━━━━━━━━━━━━━\u001b[0m \u001b[32m49.3/49.3 kB\u001b[0m \u001b[31m3.3 MB/s\u001b[0m eta \u001b[36m0:00:00\u001b[0m\n",
      "\u001b[2K   \u001b[90m━━━━━━━━━━━━━━━━━━━━━━━━━━━━━━━━━━━━━━━━\u001b[0m \u001b[32m57.5/57.5 kB\u001b[0m \u001b[31m3.9 MB/s\u001b[0m eta \u001b[36m0:00:00\u001b[0m\n",
      "\u001b[?25h  Building wheel for docx2txt (setup.py) ... \u001b[?25l\u001b[?25hdone\n",
      "  Building wheel for pypika (pyproject.toml) ... \u001b[?25l\u001b[?25hdone\n",
      "\u001b[31mERROR: pip's dependency resolver does not currently take into account all the packages that are installed. This behaviour is the source of the following dependency conflicts.\n",
      "tensorflow 2.17.1 requires protobuf!=4.21.0,!=4.21.1,!=4.21.2,!=4.21.3,!=4.21.4,!=4.21.5,<5.0.0dev,>=3.20.3, but you have protobuf 5.29.2 which is incompatible.\n",
      "tensorflow-metadata 1.13.1 requires protobuf<5,>=3.20.3, but you have protobuf 5.29.2 which is incompatible.\n",
      "transformers 4.47.1 requires tokenizers<0.22,>=0.21, but you have tokenizers 0.20.3 which is incompatible.\u001b[0m\u001b[31m\n",
      "\u001b[2K   \u001b[90m━━━━━━━━━━━━━━━━━━━━━━━━━━━━━━━━━━━━━━━━\u001b[0m \u001b[32m41.3/41.3 kB\u001b[0m \u001b[31m1.6 MB/s\u001b[0m eta \u001b[36m0:00:00\u001b[0m\n",
      "\u001b[2K   \u001b[90m━━━━━━━━━━━━━━━━━━━━━━━━━━━━━━━━━━━━━━━━\u001b[0m \u001b[32m3.2/3.2 MB\u001b[0m \u001b[31m34.1 MB/s\u001b[0m eta \u001b[36m0:00:00\u001b[0m\n",
      "\u001b[?25h"
     ]
    }
   ],
   "source": [
    "!pip install --q --upgrade crewai\n",
    "!pip install --q --upgrade crewai-tools\n",
    "!pip install --q --upgrade langchain-google-genai\n",
    "!pip install --q --upgrade duckduckgo-search"
   ]
  },
  {
   "cell_type": "code",
   "execution_count": null,
   "metadata": {
    "id": "A6Qi-GPKz7mN"
   },
   "outputs": [],
   "source": [
    "import os\n",
    "from crewai import Agent, Crew, Process, Task, LLM\n",
    "from crewai_tools import tool"
   ]
  },
  {
   "cell_type": "code",
   "execution_count": null,
   "metadata": {
    "id": "Ky2GShlA09ph"
   },
   "outputs": [],
   "source": [
    "from google.colab import userdata\n",
    "geminikey = userdata.get('GOOGLE_API_KEY')\n",
    "os.environ['GOOGLE_API_KEY'] = geminikey"
   ]
  },
  {
   "cell_type": "code",
   "execution_count": null,
   "metadata": {
    "id": "2WPtXqWZ1ctG"
   },
   "outputs": [],
   "source": [
    "my_llm = LLM(\n",
    "    model='gemini/gemini-1.5-flash',\n",
    "    api_key=geminikey\n",
    ")"
   ]
  },
  {
   "cell_type": "code",
   "execution_count": null,
   "metadata": {
    "id": "jEcxlXmXhBVN"
   },
   "outputs": [],
   "source": [
    "from langchain.tools import DuckDuckGoSearchRun\n",
    "search_tool = DuckDuckGoSearchRun()\n",
    "\n",
    "@tool('DuckDuckGoSearch')\n",
    "def search_tool(search_query: str):\n",
    "    \"\"\"Search the web for information on a given topic\"\"\"\n",
    "    return DuckDuckGoSearchRun().run(search_query)"
   ]
  },
  {
   "cell_type": "code",
   "execution_count": null,
   "metadata": {
    "id": "_VQG1et81eP2"
   },
   "outputs": [],
   "source": [
    "searcher = Agent(\n",
    "    role = 'Content Searcher',\n",
    "    goal = 'Search for online content about {topic}',\n",
    "    backstory = '''\n",
    "                You will be working on creating articles for LinkedIn about {topic}.\n",
    "                You will conduct research online, collect and group information.\n",
    "                Your work will serve as a basis for the Content Writer.\n",
    "                ''',\n",
    "    llm = my_llm,\n",
    "    verbose=True,\n",
    "    allow_delegate=False,\n",
    "    tools = [search_tool]\n",
    ")\n",
    "\n",
    "writer = Agent(\n",
    "    role = 'Content Writer',\n",
    "    goal = 'Writing a LinkedIn post about {topic}',\n",
    "    backstory = ''''\n",
    "                Your task is to create a LinkedIn article on {topic}, using the data gathered by the Content Searcher as a reference.\n",
    "                The article should be engaging and informative, maintaining factual accuracy\n",
    "                ''',\n",
    "    tools = [search_tool],\n",
    "    llm=my_llm,\n",
    "    verbose=True\n",
    ")\n",
    "\n",
    "editor = Agent(\n",
    "    role = 'Content Editor',\n",
    "    goal = 'Revise the LinkedIn post to guarantee factual accuracy while maintaining a relaxed and entertaining style.',\n",
    "    backstory = ''''\n",
    "                Your task is to review and edit a LinkedIn article written by the Content Writer.\n",
    "                You will ensure that the final version, which should be accurate and well-written.\n",
    "                ''',\n",
    "    tools = [search_tool],\n",
    "    llm=my_llm,\n",
    "    verbose=True\n",
    ")"
   ]
  },
  {
   "cell_type": "code",
   "execution_count": null,
   "metadata": {
    "id": "GDOgSFMm10a2"
   },
   "outputs": [],
   "source": [
    "search = Task(\n",
    "    description=\n",
    "        '''\n",
    "         1. Give priority to the most recent trends, key figures, and breaking news related to {topic}.\n",
    "         2. Determine the target audience, taking into account their interests and challenges.\n",
    "         3. Incorporate SEO keywords and data from credible sources.\n",
    "        ''',\n",
    "    agent=searcher,\n",
    "    expected_output='A comprehensive trend plan focused on {topic}, incorporating top SEO keywords and the most recent news.'\n",
    ")\n",
    "\n",
    "\n",
    "write = Task(\n",
    "    description='''\n",
    "        1. Leverage the gathered content data to develop a compelling LinkedIn post centered around the theme of {topic}.\n",
    "        2. Seamlessly integrate relevant SEO keywords into the content.\n",
    "        3. Structure the post to be captivating, with a conclusion designed to stimulate reflection.\n",
    "        ''',\n",
    "    agent=writer,\n",
    "    expected_output='A LinkedIn post about {topic}.'\n",
    ")\n",
    "\n",
    "review = Task(\n",
    "    description=(\"Review the LinkedIn post in question for grammatical errors.\"\n",
    "    ),\n",
    "    agent=editor,\n",
    "    expected_output='A LinkedIn post ready for publication. The text is formatted in paragraphs and does not use bullet points.'\n",
    ")"
   ]
  },
  {
   "cell_type": "code",
   "execution_count": null,
   "metadata": {
    "colab": {
     "base_uri": "https://localhost:8080/"
    },
    "id": "5iMq3kDX1HLe",
    "outputId": "cac0abce-f704-4b59-81af-bcf4c393f8e0"
   },
   "outputs": [
    {
     "name": "stderr",
     "output_type": "stream",
     "text": [
      "WARNING:opentelemetry.trace:Overriding of current TracerProvider is not allowed\n"
     ]
    }
   ],
   "source": [
    "crew = Crew(\n",
    "    agents=[searcher,writer,editor],\n",
    "    tasks=[search,write,review],\n",
    "    verbose=1,\n",
    "    process=Process.sequential\n",
    ")"
   ]
  },
  {
   "cell_type": "code",
   "execution_count": null,
   "metadata": {
    "colab": {
     "base_uri": "https://localhost:8080/"
    },
    "id": "OimcW-4_17Kn",
    "outputId": "b0242148-4acc-492b-9af9-d22fcc17f1b3"
   },
   "outputs": [
    {
     "name": "stdout",
     "output_type": "stream",
     "text": [
      "\u001b[1m\u001b[95m# Agent:\u001b[00m \u001b[1m\u001b[92mContent Searcher\u001b[00m\n",
      "\u001b[95m## Task:\u001b[00m \u001b[92m\n",
      "         1. Give priority to the most recent trends, key figures, and breaking news related to Career opportunities for developers specializing in Multi-Agent Systems.\n",
      "         2. Determine the target audience, taking into account their interests and challenges.\n",
      "         3. Incorporate SEO keywords and data from credible sources.\n",
      "        \u001b[00m\n"
     ]
    },
    {
     "name": "stderr",
     "output_type": "stream",
     "text": [
      "/usr/local/lib/python3.10/dist-packages/langchain_community/utilities/duckduckgo_search.py:64: UserWarning: 'api' backend is deprecated, using backend='auto'\n",
      "  ddgs_gen = ddgs.text(\n"
     ]
    },
    {
     "name": "stdout",
     "output_type": "stream",
     "text": [
      "\n",
      "\n",
      "\u001b[1m\u001b[95m# Agent:\u001b[00m \u001b[1m\u001b[92mContent Searcher\u001b[00m\n",
      "\u001b[95m## Thought:\u001b[00m \u001b[92mThought: I need to find information on career opportunities for developers specializing in Multi-Agent Systems (MAS), focusing on recent trends, key figures, and news.  I also need to identify the target audience and relevant SEO keywords.\u001b[00m\n",
      "\u001b[95m## Using tool:\u001b[00m \u001b[92mDuckDuckGoSearch\u001b[00m\n",
      "\u001b[95m## Tool Input:\u001b[00m \u001b[92m\n",
      "\"{\\\"search_query\\\": \\\"career opportunities multi agent systems developers\\\"}\"\u001b[00m\n",
      "\u001b[95m## Tool Output:\u001b[00m \u001b[92m\n",
      "268 Multi Agent Systems Jobs in United States · Shift Manager (Payne) $5000 Sign-on Bonus. Shift Manager (Payne) $5000 Sign-on Bonus. · Sales Lead. Sales Lead. software engineering for multi agent systems jobs · VP of AI Research, Trilogy (Remote) - $200,000/year USD. New · Electrical Engineer. GreenXT · Controls Engineer. Group Air Agent · ADTRAV Travel Management Boise, ID ; Software Developer · Nagios Enterprises, LLC Saint Paul, MN ; Customer Service Agent (Hybrid). Contact Center ... Honda Research Institute USA (HRI-US) is looking for a senior research engineer with expertise in system integration for Distributed Multi-Agent Systems. Senior Cloud Application Developer · AI Engineer · Multi-Agent Teaming Autonomy Engineer - Clearance Eligible - (Remote) · Sr. · Principal Software Engineer Backend ...\u001b[00m\n"
     ]
    },
    {
     "name": "stderr",
     "output_type": "stream",
     "text": [
      "/usr/local/lib/python3.10/dist-packages/langchain_community/utilities/duckduckgo_search.py:64: UserWarning: 'api' backend is deprecated, using backend='auto'\n",
      "  ddgs_gen = ddgs.text(\n"
     ]
    },
    {
     "name": "stdout",
     "output_type": "stream",
     "text": [
      "\n",
      "\n",
      "\u001b[1m\u001b[95m# Agent:\u001b[00m \u001b[1m\u001b[92mContent Searcher\u001b[00m\n",
      "\u001b[95m## Thought:\u001b[00m \u001b[92mThought: The search results show various job postings, but lack information on trends, key figures, and a comprehensive overview of the career landscape. I need to refine my search.\u001b[00m\n",
      "\u001b[95m## Using tool:\u001b[00m \u001b[92mDuckDuckGoSearch\u001b[00m\n",
      "\u001b[95m## Tool Input:\u001b[00m \u001b[92m\n",
      "\"{\\\"search_query\\\": \\\"multi agent systems trends career\\\"}\"\u001b[00m\n",
      "\u001b[95m## Tool Output:\u001b[00m \u001b[92m\n",
      "Current Trends and Innovations in Multi-Agent Systems. The world of artificial intelligence is rapidly evolving, and multi-agent systems (MAS) are at the forefront of this transformation. These sophisticated networks of AI entities are being revolutionized by two key technologies: generative AI and AutoML (Automated Machine Learning). Trend #1: Why Multi-Agent Systems (MAS) Are the Next Big Thing . What It Is: Multi-Agent Systems (MAS) involve multiple AI programs, or \"agents,\" working together to achieve specific goals, often in real-time and with the ability to be \"sensitive\" to changes in the environment. This doesn't mean that agentic AI is sentient, but it ... The landscape of multi-agent systems is evolving, with 2024 trends indicating a shift towards more sophisticated collaborative frameworks. Recent studies have underscored the importance of both collaboration and competition among agents, enhancing their performance across various domains, including programming and scientific research. A multi-agent system is an AI system. It has more than one independent agent. These agents work together in the same environment. The agents can interact, work together, and negotiate to reach their goals. MAS can do tasks that need different skills, parallel processing, and changing decisions. This is different from single-agent systems. Key ... AI agents — LLM-based bots that can independently assign themselves to and complete tasks to fulfill a user's goal — took off like wildfire in 2023.. Now, multi-agent AI systems are emerging as the next iteration to provide a more effective approach to executing complex tasks. Multi-agent systems string together agents that \"talk\" to each other and collaborate.\u001b[00m\n"
     ]
    },
    {
     "name": "stderr",
     "output_type": "stream",
     "text": [
      "/usr/local/lib/python3.10/dist-packages/langchain_community/utilities/duckduckgo_search.py:64: UserWarning: 'api' backend is deprecated, using backend='auto'\n",
      "  ddgs_gen = ddgs.text(\n"
     ]
    },
    {
     "name": "stdout",
     "output_type": "stream",
     "text": [
      "\n",
      "\n",
      "\u001b[1m\u001b[95m# Agent:\u001b[00m \u001b[1m\u001b[92mContent Searcher\u001b[00m\n",
      "\u001b[95m## Thought:\u001b[00m \u001b[92mThought: This provides some trend information, but I still need more specific data on the job market and target audience.\u001b[00m\n",
      "\u001b[95m## Using tool:\u001b[00m \u001b[92mDuckDuckGoSearch\u001b[00m\n",
      "\u001b[95m## Tool Input:\u001b[00m \u001b[92m\n",
      "\"{\\\"search_query\\\": \\\"multi agent systems job market outlook\\\"}\"\u001b[00m\n",
      "\u001b[95m## Tool Output:\u001b[00m \u001b[92m\n",
      "AI agents — LLM-based bots that can independently assign themselves to and complete tasks to fulfill a user's goal — took off like wildfire in 2023.. Now, multi-agent AI systems are emerging as the next iteration to provide a more effective approach to executing complex tasks. Multi-agent systems string together agents that \"talk\" to each other and collaborate. In finance, for instance, multi-agent systems are transforming market analysis and risk assessment. These systems can process vast amounts of data from diverse sources, providing comprehensive insights that would be impossible for a single AI model or human analyst to achieve. ... Multi-agent systems offer unparalleled scalability, allowing ... When it comes to AI, we anticipate the innovation in AI agents in 2024 to pave the way for the rise of multi-agent systems in 2025, creating new challenges and opportunities for cybersecurity professionals and attackers alike. Here are ten trends to watch for in 2025: 1. The overall Total Addressable Market (TAM) of cybercrime gets bigger The discovery phase further emphasizes risk assessment and coordination planning. Multi agent systems in artificial intelligence often come with challenges like unpredictable agent behavior or communication breakdowns. Addressing these during the initial planning phase helps build strategies for agent synchronization and negotiation capabilities. A multi-agent system (MAS) contains multiple AI agents that collaborate in a shared environment to achieve specific goals. ... The agents all operate independently while also interacting with others, creating a dynamic market environment that adapts to changing conditions. Personalized healthcare. In personalized treatment planning, each AI ...\n",
      "\n",
      "\n",
      "You ONLY have access to the following tools, and should NEVER make up tools that are not listed here:\n",
      "\n",
      "Tool Name: DuckDuckGoSearch\n",
      "Tool Arguments: {'search_query': {'description': None, 'type': 'str'}}\n",
      "Tool Description: Search the web for information on a given topic\n",
      "\n",
      "Use the following format:\n",
      "\n",
      "Thought: you should always think about what to do\n",
      "Action: the action to take, only one name of [DuckDuckGoSearch], just the name, exactly as it's written.\n",
      "Action Input: the input to the action, just a simple python dictionary, enclosed in curly braces, using \" to wrap keys and values.\n",
      "Observation: the result of the action\n",
      "\n",
      "Once all necessary information is gathered:\n",
      "\n",
      "Thought: I now know the final answer\n",
      "Final Answer: the final answer to the original input question\n",
      "\u001b[00m\n",
      "\n",
      "\n",
      "\u001b[1m\u001b[95m# Agent:\u001b[00m \u001b[1m\u001b[92mContent Searcher\u001b[00m\n",
      "\u001b[95m## Final Answer:\u001b[00m \u001b[92m\n",
      "**LinkedIn Article:  Riding the Wave: Career Opportunities in Multi-Agent Systems Development**\n",
      "\n",
      "**Introduction:**\n",
      "\n",
      "The field of Artificial Intelligence (AI) is experiencing explosive growth, and within it, Multi-Agent Systems (MAS) are emerging as a key area of innovation.  MAS, involving multiple independent AI agents working collaboratively to achieve complex goals, are transforming industries from finance and healthcare to robotics and logistics. This presents exciting career opportunities for skilled developers.\n",
      "\n",
      "**The Rise of MAS:**\n",
      "\n",
      "Recent trends highlight the increasing demand for MAS developers. The integration of Large Language Models (LLMs) into agents is fueling a new wave of intelligent systems capable of complex problem-solving and autonomous decision-making.  This year alone, we've seen a surge in applications across various sectors:\n",
      "\n",
      "* **Finance:** MAS are revolutionizing algorithmic trading, risk assessment, and fraud detection.\n",
      "* **Healthcare:** Personalized medicine and efficient patient management are being enhanced through sophisticated MAS.\n",
      "* **Robotics:** Collaborative robots (cobots) and autonomous systems are increasingly reliant on MAS for coordination and adaptability.\n",
      "* **Logistics:** Optimized supply chain management and autonomous delivery systems leverage the power of MAS.\n",
      "\n",
      "\n",
      "**In-Demand Skills:**\n",
      "\n",
      "Successful MAS developers require a diverse skillset:\n",
      "\n",
      "* **Strong Programming Skills:** Proficiency in languages like Python, Java, or C++ is essential.\n",
      "* **AI/ML Expertise:** A deep understanding of machine learning algorithms, particularly those relevant to agent interaction and learning (reinforcement learning, multi-agent reinforcement learning).\n",
      "* **Distributed Systems Knowledge:** Experience with distributed computing frameworks and communication protocols.\n",
      "* **Agent-Based Modeling:** Ability to design, develop, and simulate complex MAS.\n",
      "* **Problem-Solving and Collaboration:**  The collaborative nature of MAS necessitates excellent problem-solving and teamwork skills.\n",
      "\n",
      "\n",
      "**Career Paths:**\n",
      "\n",
      "The opportunities for MAS developers are varied and promising:\n",
      "\n",
      "* **Software Engineer/Developer (MAS Focus):** Designing, implementing, and maintaining MAS software.\n",
      "* **AI Researcher:** Advancing the theoretical foundations and practical applications of MAS.\n",
      "* **Data Scientist (MAS Focus):** Analyzing data to improve the performance and efficiency of MAS.\n",
      "* **Robotics Engineer (MAS Focus):** Integrating MAS into robotic systems.\n",
      "\n",
      "\n",
      "**Target Audience:**\n",
      "\n",
      "This article targets experienced software developers with a background in AI or a strong desire to enter the field.  Individuals with experience in distributed systems, game AI, or simulation are particularly well-suited for a transition to MAS development. Students pursuing advanced degrees in computer science, AI, or related fields should also find this information valuable.\n",
      "\n",
      "**SEO Keywords:**\n",
      "\n",
      "Multi-Agent Systems, MAS, Multi-Agent Reinforcement Learning, MARL, AI Agents, Distributed Systems, Agent-Based Modeling, AI Jobs, Software Engineer, AI Developer, Data Scientist, Robotics Engineer, Career Opportunities, AI Career, Future of AI.\n",
      "\n",
      "\n",
      "**Conclusion:**\n",
      "\n",
      "The growth of Multi-Agent Systems offers unparalleled opportunities for skilled developers.  By acquiring the necessary skills and understanding the current trends, you can position yourself for a rewarding and impactful career in this exciting field.  The future of AI is multi-agent, and your future can be a part of it.\u001b[00m\n",
      "\n",
      "\n",
      "\u001b[1m\u001b[95m# Agent:\u001b[00m \u001b[1m\u001b[92mContent Writer\u001b[00m\n",
      "\u001b[95m## Task:\u001b[00m \u001b[92m\n",
      "        1. Leverage the gathered content data to develop a compelling LinkedIn post centered around the theme of Career opportunities for developers specializing in Multi-Agent Systems.\n",
      "        2. Seamlessly integrate relevant SEO keywords into the content.\n",
      "        3. Structure the post to be captivating, with a conclusion designed to stimulate reflection.\n",
      "        \u001b[00m\n",
      "\n",
      "\n",
      "\u001b[1m\u001b[95m# Agent:\u001b[00m \u001b[1m\u001b[92mContent Writer\u001b[00m\n",
      "\u001b[95m## Final Answer:\u001b[00m \u001b[92m\n",
      "**Riding the Wave:  High-Demand Careers in Multi-Agent Systems (MAS)**\n",
      "\n",
      "The AI revolution is here, and Multi-Agent Systems (MAS) are leading the charge!  Forget single agents – the future is collaborative, intelligent systems solving complex problems across industries.  If you're a skilled developer looking for a rewarding and future-proof career, MAS is your next big opportunity.\n",
      "\n",
      "**Why MAS is Taking Off:**\n",
      "\n",
      "The demand for MAS developers is exploding.  The integration of Large Language Models (LLMs) into agents is creating incredibly powerful systems capable of autonomous decision-making and complex problem-solving. This is transforming sectors like:\n",
      "\n",
      "* **Finance:** Algorithmic trading, risk management, and fraud detection are being revolutionized.\n",
      "* **Healthcare:** Personalized medicine and efficient patient care are now within reach.\n",
      "* **Robotics:** Collaborative robots (cobots) and autonomous systems rely heavily on MAS for seamless coordination.\n",
      "* **Logistics:** Optimized supply chains and autonomous delivery are becoming realities.\n",
      "\n",
      "**Skills in High Demand:**\n",
      "\n",
      "To thrive in this field, you'll need a diverse skillset:\n",
      "\n",
      "* **Programming Prowess:**  Python, Java, or C++ expertise is a must.\n",
      "* **AI/ML Mastery:** Deep understanding of machine learning, especially reinforcement learning and multi-agent reinforcement learning (MARL).\n",
      "* **Distributed Systems Knowledge:**  Experience with distributed computing frameworks and communication protocols.\n",
      "* **Agent-Based Modeling:** Design, development, and simulation of complex MAS.\n",
      "* **Collaboration & Problem-Solving:**  MAS is all about teamwork – strong collaboration skills are crucial.\n",
      "\n",
      "**Your Path to MAS Success:**\n",
      "\n",
      "Numerous career paths await MAS specialists:\n",
      "\n",
      "* **MAS Software Engineer/Developer:** Design, build, and maintain the next generation of intelligent systems.\n",
      "* **AI Researcher (MAS Focus):** Push the boundaries of MAS technology and contribute to groundbreaking advancements.\n",
      "* **Data Scientist (MAS Focus):** Leverage data to optimize MAS performance and efficiency.\n",
      "* **Robotics Engineer (MAS Focus):** Integrate MAS into cutting-edge robotic systems.\n",
      "\n",
      "**Are You Ready to Dive In?**\n",
      "\n",
      "This post is for experienced software developers with AI/ML backgrounds or those eager to transition into the field.  Experience in distributed systems, game AI, or simulation is a big plus.  Students pursuing advanced degrees in computer science or AI should also take note!  The future of AI is multi-agent, and your future can be a part of it.  Let's connect and discuss how you can leverage your skills in this exciting field! #MAS #MultiAgentSystems #AI #ArtificialIntelligence #MachineLearning #MARL #SoftwareEngineer #DataScientist #Robotics #CareerOpportunities #TechJobs #FutureofAI\u001b[00m\n",
      "\n",
      "\n",
      "\u001b[1m\u001b[95m# Agent:\u001b[00m \u001b[1m\u001b[92mContent Editor\u001b[00m\n",
      "\u001b[95m## Task:\u001b[00m \u001b[92mReview the LinkedIn post in question for grammatical errors.\u001b[00m\n"
     ]
    },
    {
     "name": "stderr",
     "output_type": "stream",
     "text": [
      "/usr/local/lib/python3.10/dist-packages/langchain_community/utilities/duckduckgo_search.py:64: UserWarning: 'api' backend is deprecated, using backend='auto'\n",
      "  ddgs_gen = ddgs.text(\n"
     ]
    },
    {
     "name": "stdout",
     "output_type": "stream",
     "text": [
      "\n",
      "\n",
      "\u001b[1m\u001b[95m# Agent:\u001b[00m \u001b[1m\u001b[92mContent Editor\u001b[00m\n",
      "\u001b[95m## Thought:\u001b[00m \u001b[92mThought:The LinkedIn post is well-written but could benefit from improved flow and some minor grammatical corrections.  The bullet points should be incorporated into paragraphs for better readability on LinkedIn.  I need to check the factual accuracy of the claims about MAS applications in various industries.\u001b[00m\n",
      "\u001b[95m## Using tool:\u001b[00m \u001b[92mDuckDuckGoSearch\u001b[00m\n",
      "\u001b[95m## Tool Input:\u001b[00m \u001b[92m\n",
      "\"{\\\"search_query\\\": \\\"applications of multi-agent systems in finance, healthcare, robotics, and logistics\\\"}\"\u001b[00m\n",
      "\u001b[95m## Tool Output:\u001b[00m \u001b[92m\n",
      "Multi-agent systems in healthcare utilize the advantages of both sub-fields. Different diseases can be addressed through task division as per the norms of MAS.M. Bhanu Sridhar, researcher in healthcare applications of MAS. Steering Transportation into the Future. Multi-agent systems are paving the way for smarter, more efficient transportation ... Multi-agent systems (MAS) are transforming industrial automation by enabling more flexible, adaptive, and efficient manufacturing and logistics processes. These distributed AI systems consist of multiple autonomous agents that can communicate, coordinate, and make decisions to optimize operations in real-time. Here are some of the essential applications of multi agent systems across different industries. 1. Supply Chain Management ... In the financial sector, multi agent systems automate many tasks, such as fraud detection, market risk analysis, portfolio management, algorithmic trading, etc. ... Healthcare. Multi agent systems can be leveraged in ... Applications of Multi-Agent Systems. Multi-agent systems (MAS) have transformed operations across various industries by enabling sophisticated coordination, real-time information sharing, and distributed problem-solving capabilities. Here are some key applications that showcase how MAS enhances efficiency and reliability in complex systems. In the realm of healthcare, Multi-Agent Systems (MAS) have emerged as a promising technological framework, offering potential solutions to intricate challenges. ... E., Reid, M.: Multi-agent system applications in healthcare: current technology and future roadmap. Proc. Comput. Sci. 52, 252-261 (2015) ... Intelligent Technologies and Robotics ...\u001b[00m\n",
      "\n",
      "\n",
      "\u001b[1m\u001b[95m# Agent:\u001b[00m \u001b[1m\u001b[92mContent Editor\u001b[00m\n",
      "\u001b[95m## Final Answer:\u001b[00m \u001b[92m\n",
      "Riding the Wave: High-Demand Careers in Multi-Agent Systems (MAS)\n",
      "\n",
      "The AI revolution is here, and Multi-Agent Systems (MAS) are leading the charge! Forget single agents—the future is collaborative, intelligent systems solving complex problems across industries. If you're a skilled developer looking for a rewarding and future-proof career, MAS is your next big opportunity.\n",
      "\n",
      "Why MAS is Taking Off\n",
      "\n",
      "The demand for MAS developers is exploding. The integration of Large Language Models (LLMs) into agents is creating incredibly powerful systems capable of autonomous decision-making and complex problem-solving. This is transforming sectors like finance, where algorithmic trading, risk management, and fraud detection are being revolutionized; healthcare, where personalized medicine and efficient patient care are within reach; robotics, where collaborative robots (cobots) and autonomous systems rely heavily on MAS for seamless coordination; and logistics, where optimized supply chains and autonomous delivery are becoming realities.\n",
      "\n",
      "Skills in High Demand\n",
      "\n",
      "To thrive in this field, you'll need a diverse skillset: programming prowess (Python, Java, or C++ expertise is a must); AI/ML mastery (a deep understanding of machine learning, especially reinforcement learning and multi-agent reinforcement learning (MARL)); knowledge of distributed systems (experience with distributed computing frameworks and communication protocols); agent-based modeling (design, development, and simulation of complex MAS); and strong collaboration and problem-solving skills, as MAS is all about teamwork.\n",
      "\n",
      "Your Path to MAS Success\n",
      "\n",
      "Numerous career paths await MAS specialists, including MAS software engineer/developer (designing, building, and maintaining the next generation of intelligent systems); AI researcher (MAS focus) (pushing the boundaries of MAS technology and contributing to groundbreaking advancements); data scientist (MAS focus) (leveraging data to optimize MAS performance and efficiency); and robotics engineer (MAS focus) (integrating MAS into cutting-edge robotic systems).\n",
      "\n",
      "\n",
      "Are You Ready to Dive In?\n",
      "\n",
      "This post is for experienced software developers with AI/ML backgrounds or those eager to transition into the field. Experience in distributed systems, game AI, or simulation is a big plus. Students pursuing advanced degrees in computer science or AI should also take note! The future of AI is multi-agent, and your future can be a part of it. Let's connect and discuss how you can leverage your skills in this exciting field! #MAS #MultiAgentSystems #AI #ArtificialIntelligence #MachineLearning #MARL #SoftwareEngineer #DataScientist #Robotics #CareerOpportunities #TechJobs #FutureofAI\u001b[00m\n",
      "\n",
      "\n"
     ]
    }
   ],
   "source": [
    "subject = 'Career opportunities for developers specializing in Multi-Agent Systems'\n",
    "template_input = {\"topic\": subject}\n",
    "result = crew.kickoff(inputs=template_input)"
   ]
  }
 ],
 "metadata": {
  "colab": {
   "provenance": []
  },
  "kernelspec": {
   "display_name": "Python 3 (ipykernel)",
   "language": "python",
   "name": "python3"
  },
  "language_info": {
   "codemirror_mode": {
    "name": "ipython",
    "version": 3
   },
   "file_extension": ".py",
   "mimetype": "text/x-python",
   "name": "python",
   "nbconvert_exporter": "python",
   "pygments_lexer": "ipython3",
   "version": "3.12.4"
  }
 },
 "nbformat": 4,
 "nbformat_minor": 4
}
